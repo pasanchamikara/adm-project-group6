{
 "cells": [
  {
   "cell_type": "code",
   "execution_count": 8,
   "id": "5d7362d1",
   "metadata": {},
   "outputs": [],
   "source": [
    "import pandas as pd"
   ]
  },
  {
   "cell_type": "code",
   "execution_count": 13,
   "id": "c5dd07e7",
   "metadata": {},
   "outputs": [
    {
     "name": "stdout",
     "output_type": "stream",
     "text": [
      "<class 'pandas.core.frame.DataFrame'>\n",
      "RangeIndex: 48433 entries, 0 to 48432\n",
      "Data columns (total 19 columns):\n",
      " #   Column         Non-Null Count  Dtype  \n",
      "---  ------         --------------  -----  \n",
      " 0   Unnamed: 0     48433 non-null  int64  \n",
      " 1   Suburb         48433 non-null  int64  \n",
      " 2   Rooms          48433 non-null  int64  \n",
      " 3   Price          48433 non-null  float64\n",
      " 4   SellerG        48433 non-null  int64  \n",
      " 5   Date           48433 non-null  object \n",
      " 6   Postcode       48433 non-null  int64  \n",
      " 7   Regionname     48433 non-null  int64  \n",
      " 8   Propertycount  48433 non-null  int64  \n",
      " 9   Distance       48433 non-null  float64\n",
      " 10  CouncilArea    48433 non-null  int64  \n",
      " 11  Type_h         48433 non-null  int64  \n",
      " 12  Type_t         48433 non-null  int64  \n",
      " 13  Type_u         48433 non-null  int64  \n",
      " 14  Method_PI      48433 non-null  int64  \n",
      " 15  Method_S       48433 non-null  int64  \n",
      " 16  Method_SA      48433 non-null  int64  \n",
      " 17  Method_SP      48433 non-null  int64  \n",
      " 18  Method_VB      48433 non-null  int64  \n",
      "dtypes: float64(2), int64(16), object(1)\n",
      "memory usage: 7.0+ MB\n"
     ]
    }
   ],
   "source": [
    "# X_train = pd.read_csv('X_train.csv').drop([\"Unnamed: 0\", 'Date'], axis=1)\n",
    "# X_test = pd.read_csv('X_test.csv').drop([\"Unnamed: 0\", \"Date\"], axis=1)\n",
    "# y_train = pd.read_csv('y_train.csv').drop([\"Unnamed: 0\"], axis=1)\n",
    "# y_test = pd.read_csv('y_test.csv').drop([\"Unnamed: 0\"], axis=1)\n",
    "\n",
    "df = pd.read_csv('filtered-data.csv')\n",
    "df.info()"
   ]
  },
  {
   "cell_type": "code",
   "execution_count": 14,
   "id": "be656fbf",
   "metadata": {},
   "outputs": [],
   "source": [
    "df = df.drop(['Date'], axis=1)"
   ]
  },
  {
   "cell_type": "code",
   "execution_count": 15,
   "id": "4895b3f0",
   "metadata": {},
   "outputs": [],
   "source": [
    "from sklearn.preprocessing import MinMaxScaler\n",
    "dataset = MinMaxScaler().fit_transform(df)"
   ]
  },
  {
   "cell_type": "code",
   "execution_count": 18,
   "id": "b331f888",
   "metadata": {},
   "outputs": [],
   "source": [
    "from sklearn.model_selection import train_test_split\n",
    "\n",
    "X = df.values\n",
    "y = df['Price'].values\n",
    "X_train, X_test, y_train, y_test = train_test_split(df, y, test_size=0.3, random_state=40)"
   ]
  },
  {
   "cell_type": "code",
   "execution_count": 19,
   "id": "ab0b4817",
   "metadata": {},
   "outputs": [],
   "source": [
    "from sklearn.svm import SVR"
   ]
  },
  {
   "cell_type": "code",
   "execution_count": null,
   "id": "83ca9379",
   "metadata": {},
   "outputs": [],
   "source": [
    "reg5 = SVR(kernel=\"linear\")\n",
    "reg5.fit( X_train, y_train )"
   ]
  },
  {
   "cell_type": "code",
   "execution_count": null,
   "id": "bee39f9b",
   "metadata": {},
   "outputs": [],
   "source": [
    "label = reg5.predict( X_test )\n",
    "from sklearn.metrics import r2_score\n",
    "print( 'the r2 of SVR is ',r2_score(y_test, label) )"
   ]
  },
  {
   "cell_type": "code",
   "execution_count": null,
   "id": "6c80e044",
   "metadata": {},
   "outputs": [],
   "source": []
  }
 ],
 "metadata": {
  "kernelspec": {
   "display_name": "Python 3 (ipykernel)",
   "language": "python",
   "name": "python3"
  },
  "language_info": {
   "codemirror_mode": {
    "name": "ipython",
    "version": 3
   },
   "file_extension": ".py",
   "mimetype": "text/x-python",
   "name": "python",
   "nbconvert_exporter": "python",
   "pygments_lexer": "ipython3",
   "version": "3.9.13"
  }
 },
 "nbformat": 4,
 "nbformat_minor": 5
}
