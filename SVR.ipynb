{
 "cells": [
  {
   "cell_type": "code",
   "execution_count": null,
   "id": "5d7362d1",
   "metadata": {},
   "outputs": [],
   "source": [
    "import pandas as pd"
   ]
  },
  {
   "cell_type": "code",
   "execution_count": null,
   "id": "c5dd07e7",
   "metadata": {},
   "outputs": [],
   "source": [
    "# X_train = pd.read_csv('X_train.csv').drop([\"Unnamed: 0\", 'Date'], axis=1)\n",
    "# X_test = pd.read_csv('X_test.csv').drop([\"Unnamed: 0\", \"Date\"], axis=1)\n",
    "# y_train = pd.read_csv('y_train.csv').drop([\"Unnamed: 0\"], axis=1)\n",
    "# y_test = pd.read_csv('y_test.csv').drop([\"Unnamed: 0\"], axis=1)\n",
    "\n",
    "df = pd.read_csv('filtered-data.csv')\n",
    "df.info()"
   ]
  },
  {
   "cell_type": "code",
   "execution_count": null,
   "id": "be656fbf",
   "metadata": {},
   "outputs": [],
   "source": [
    "df = df.drop(['Date'], axis=1)"
   ]
  },
  {
   "cell_type": "code",
   "execution_count": null,
   "id": "4895b3f0",
   "metadata": {},
   "outputs": [],
   "source": [
    "from sklearn.preprocessing import MinMaxScaler\n",
    "dataset = MinMaxScaler().fit_transform(df)"
   ]
  },
  {
   "cell_type": "code",
   "execution_count": null,
   "id": "b331f888",
   "metadata": {},
   "outputs": [],
   "source": [
    "from sklearn.model_selection import train_test_split\n",
    "\n",
    "X = df.values\n",
    "y = df['Price'].values\n",
    "X_train, X_test, y_train, y_test = train_test_split(df, y, test_size=0.3, random_state=40)"
   ]
  },
  {
   "cell_type": "code",
   "execution_count": null,
   "id": "ab0b4817",
   "metadata": {},
   "outputs": [],
   "source": [
    "from sklearn.svm import SVR"
   ]
  },
  {
   "cell_type": "code",
   "execution_count": null,
   "id": "83ca9379",
   "metadata": {},
   "outputs": [],
   "source": [
    "reg5 = SVR(kernel=\"linear\")\n",
    "reg5.fit( X_train, y_train )"
   ]
  },
  {
   "cell_type": "code",
   "execution_count": null,
   "id": "bee39f9b",
   "metadata": {},
   "outputs": [],
   "source": [
    "label = reg5.predict( X_test )\n",
    "from sklearn.metrics import r2_score\n",
    "print( 'the r2 of SVR is ',r2_score(y_test, label) )"
   ]
  },
  {
   "cell_type": "code",
   "execution_count": null,
   "id": "6c80e044",
   "metadata": {},
   "outputs": [],
   "source": []
  },
  {
   "cell_type": "code",
   "execution_count": null,
   "id": "b304d3f3",
   "metadata": {},
   "outputs": [],
   "source": []
  }
 ],
 "metadata": {
  "kernelspec": {
   "display_name": "Python 3 (ipykernel)",
   "language": "python",
   "name": "python3"
  },
  "language_info": {
   "codemirror_mode": {
    "name": "ipython",
    "version": 3
   },
   "file_extension": ".py",
   "mimetype": "text/x-python",
   "name": "python",
   "nbconvert_exporter": "python",
   "pygments_lexer": "ipython3",
   "version": "3.9.13"
  }
 },
 "nbformat": 4,
 "nbformat_minor": 5
}
